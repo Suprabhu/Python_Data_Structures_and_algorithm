{
 "cells": [
  {
   "cell_type": "code",
   "execution_count": 1,
   "id": "4ac5bff9",
   "metadata": {},
   "outputs": [
    {
     "name": "stdout",
     "output_type": "stream",
     "text": [
      "Hello world!\n",
      "Welcome home\n"
     ]
    }
   ],
   "source": [
    "def greet(): #functions need to be defined with def and folowed by the name follow the syntax\n",
    "        print(\"Hello world!\")\n",
    "        print(\"Welcome home\")\n",
    "        \n",
    "greet() #call the function to get the output "
   ]
  },
  {
   "cell_type": "code",
   "execution_count": 5,
   "id": "29bb49ab",
   "metadata": {},
   "outputs": [
    {
     "name": "stdout",
     "output_type": "stream",
     "text": [
      "Hello Abhishek Sharma\n",
      "Welcome home\n"
     ]
    }
   ],
   "source": [
    "def greet(first_name,last_name): #(first_name,last_name are the parameters that act as place holders for the receving the i/p)\n",
    "    print(f\"Hello {first_name} {last_name}\")\n",
    "    print(\"Welcome home\")\n",
    "#parameter is the i/p that we dfiend for the function where as argument is the actual value for the given parameter\n",
    "greet(\"Abhishek\",\"Sharma\") #while calling this function we need add two values that is argument (it is the value that we supply to the function)"
   ]
  },
  {
   "cell_type": "code",
   "execution_count": 9,
   "id": "8cfe9e6d",
   "metadata": {},
   "outputs": [
    {
     "name": "stdout",
     "output_type": "stream",
     "text": [
      "Hi Sharma\n"
     ]
    }
   ],
   "source": [
    "#functions of 2 types in general\n",
    "# peform a task\n",
    "# calculate and return a value\n",
    "\n",
    "def get_greet(name):\n",
    "    return f\"Hi {name}\"\n",
    "\n",
    "message = get_greet(\"Sharma\")\n",
    "print(message)   \n",
    "# file = open(\"content.txt\",\"w\")\n",
    "# file.write(message)"
   ]
  },
  {
   "cell_type": "code",
   "execution_count": 13,
   "id": "dc8c0fcf",
   "metadata": {},
   "outputs": [
    {
     "name": "stdout",
     "output_type": "stream",
     "text": [
      "3\n"
     ]
    }
   ],
   "source": [
    "#key word arguments\n",
    "def increment(number,by):\n",
    "    return number + by\n",
    "\n",
    "# result = increment(2,1)\n",
    "# print(result)\n",
    "print(increment(number=2,by=1))"
   ]
  },
  {
   "cell_type": "code",
   "execution_count": 15,
   "id": "2097e80c",
   "metadata": {},
   "outputs": [
    {
     "name": "stdout",
     "output_type": "stream",
     "text": [
      "7\n"
     ]
    }
   ],
   "source": [
    "#Optional arguments\n",
    "def increment(number,by=1):\n",
    "    return number + by\n",
    "\n",
    "# result = increment(2,1)\n",
    "# print(result)\n",
    "print(increment(2,5))"
   ]
  },
  {
   "cell_type": "code",
   "execution_count": 22,
   "id": "38506520",
   "metadata": {},
   "outputs": [
    {
     "data": {
      "text/plain": [
       "120"
      ]
     },
     "execution_count": 22,
     "metadata": {},
     "output_type": "execute_result"
    }
   ],
   "source": [
    "# *agrs\n",
    "def multiply(*numbers): #plural name to indicate collection of arguments\n",
    "    #return x*y \n",
    "    total = 1\n",
    "    for number in numbers:\n",
    "        total = total * number\n",
    "    return total\n",
    "multiply(2,3,4,5)"
   ]
  },
  {
   "cell_type": "code",
   "execution_count": 32,
   "id": "384c2c86",
   "metadata": {},
   "outputs": [
    {
     "name": "stdout",
     "output_type": "stream",
     "text": [
      "{'id': 1, 'name': 'abhishek', 'age': 22}\n",
      "1\n",
      "abhishek\n"
     ]
    }
   ],
   "source": [
    "# **args\n",
    "def save_user(**users): #plural name to indicate collection of arguments\n",
    "    print(users)\n",
    "    print(users[\"id\"])\n",
    "    print(users[\"name\"])\n",
    "# when we use ** we can pass multiple key work arguments and python will package them into a dictionary by default    \n",
    "save_user(id=1,name=\"abhishek\",age=22)\n",
    "#we get a dictionary as output "
   ]
  },
  {
   "cell_type": "code",
   "execution_count": 33,
   "id": "250189b3",
   "metadata": {},
   "outputs": [
    {
     "ename": "NameError",
     "evalue": "name 'name' is not defined",
     "output_type": "error",
     "traceback": [
      "\u001b[1;31m---------------------------------------------------------------------------\u001b[0m",
      "\u001b[1;31mNameError\u001b[0m                                 Traceback (most recent call last)",
      "Cell \u001b[1;32mIn[33], line 5\u001b[0m\n\u001b[0;32m      3\u001b[0m     message \u001b[38;5;241m=\u001b[39m \u001b[38;5;124m'\u001b[39m\u001b[38;5;124ma\u001b[39m\u001b[38;5;124m'\u001b[39m\n\u001b[0;32m      4\u001b[0m \u001b[38;5;66;03m#the scope of message variable is the greet function . It only exists inside of the greet function \u001b[39;00m\n\u001b[1;32m----> 5\u001b[0m \u001b[38;5;28mprint\u001b[39m(\u001b[43mname\u001b[49m)\n\u001b[0;32m      6\u001b[0m \u001b[38;5;28mprint\u001b[39m(message)\n",
      "\u001b[1;31mNameError\u001b[0m: name 'name' is not defined"
     ]
    }
   ],
   "source": [
    "#scope: region of the code where variable is defined\n",
    "def greet(name):\n",
    "    message = 'a'\n",
    "#the scope of message variable is the greet function . It only exists inside of the greet function \n",
    "print(name)\n",
    "print(message)\n",
    "#scope of name and message variables are greet function. Refer to these variables as local variables \n",
    "#(they dont exist anywhere else)\n",
    "\n",
    "def say_Hi(name):\n",
    "    message = 'b'\n",
    "    \n",
    "# the message variable in greet function and say_Hi functions are completely different same applies to name\n",
    "#global variables stay in memory for long time untill they are garbage collected \n",
    "\n",
    "#best practice : create functions and use parameters and local variables\n",
    "#never convert a local variable to global variable inside a function"
   ]
  },
  {
   "cell_type": "code",
   "execution_count": 47,
   "id": "30a5ba6d",
   "metadata": {},
   "outputs": [
    {
     "name": "stdout",
     "output_type": "stream",
     "text": [
      "7\n"
     ]
    }
   ],
   "source": [
    "#Fizz buzz algo \n",
    "#dont use n=unneccesarily elif statements\n",
    "def fizz_buzz(input):\n",
    "    if (input%3 == 0) and (input%5 == 0):\n",
    "        return \"Fizz_Buzz\"  \n",
    "    if (input%3) == 0:\n",
    "        return \"Fizz\"\n",
    "    if (input%5) == 0:\n",
    "        return \"Buzz\" \n",
    "    return input\n",
    "        \n",
    "value = fizz_buzz(7)\n",
    "print(value)       \n",
    "        "
   ]
  }
 ],
 "metadata": {
  "kernelspec": {
   "display_name": "Python 3 (ipykernel)",
   "language": "python",
   "name": "python3"
  },
  "language_info": {
   "codemirror_mode": {
    "name": "ipython",
    "version": 3
   },
   "file_extension": ".py",
   "mimetype": "text/x-python",
   "name": "python",
   "nbconvert_exporter": "python",
   "pygments_lexer": "ipython3",
   "version": "3.10.9"
  }
 },
 "nbformat": 4,
 "nbformat_minor": 5
}
