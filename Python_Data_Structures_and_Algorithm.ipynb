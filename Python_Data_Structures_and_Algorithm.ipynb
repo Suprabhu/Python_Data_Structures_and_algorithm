{
 "cells": [
  {
   "cell_type": "markdown",
   "id": "56fefa10",
   "metadata": {},
   "source": [
    "# Data Structures and Algorithm in Python"
   ]
  },
  {
   "cell_type": "raw",
   "id": "52d5e027",
   "metadata": {},
   "source": [
    "# What is Data Structure?\n",
    "Data Sturctures are different ways of stroing data on our computer, that can be used effectively.\n",
    "\n",
    "All applications are dealing with data, so they do some operations based on given data. Therefore, before processing the data we need to organsie the data in such a way that it makes the process efficient.\n",
    "\n",
    "From Software Application POV the Efficiency and performance of a software depends on how the data is stored and grouped during the program execution.\n",
    "\n",
    "eg: queue (first in first out) -- ticket in a railway station"
   ]
  },
  {
   "cell_type": "raw",
   "id": "5ddcb8ef",
   "metadata": {},
   "source": [
    "# What is Algorithm?\n",
    "A set of Steps to accomplish a task.\n",
    "In Computer Science: Set of rules for a computer program to accomplaish a task\n",
    "Input --> Calculation --> Stop when answer found \n",
    "Helps in writing time and memory efficient porgrams\n",
    "\n",
    "What makes a good algorithm?\n",
    "-Correctness\n",
    "-Efficiency\n",
    "\n"
   ]
  },
  {
   "cell_type": "raw",
   "id": "57efaf96",
   "metadata": {},
   "source": [
    "Why Data Structures and Algorithms are important?\n",
    "perform operations on data\n",
    "Input-->Process-->Output\n",
    "\n",
    "Optimse --> Process ---> Includes Data Structures and Algorithm\n",
    "\n",
    "Analogy: Finding a Algorithm book in a library \n",
    "Steps: Got to library --> Computer science Section --> Algorithm shelf\n",
    "Here:\n",
    "Books -- Data \n",
    "Arranging them -- Data Structure\n",
    "Finding Book we need -- Algorithm\n"
   ]
  },
  {
   "cell_type": "raw",
   "id": "65390f0f",
   "metadata": {},
   "source": [
    "What are the different types of Data Structures in python?\n",
    "\n",
    "Data Structures in python can be classified as primitve and non-primitive.\n",
    "Primitive Data Structures: \n",
    "-They are basic data types which cannot be broken into smaller data types.\n",
    "-They have have fixed size.\n",
    "-They are simpler.\n",
    "-Used for Simpler Operations.\n",
    "-Represented in Memory as Simple Values\n",
    "Main Primitive Data Types are - Int, Float, String, Boolean\n",
    "\n",
    "\n",
    "\n",
    "Non-primitive Data Structures: \n",
    "-They are complex and can be broken into into smaller data types.\n",
    "-They have have larger in size and they can grow or shrink dynamically.\n",
    "-Complex and can be comprised of multiple primitve data structures.\n",
    "-Used for Complex Operations. eg. data manipulation,sorting or searching\n",
    "-Represented in Memory as pointers to other memory locations.\n",
    "Main Primitive Data Structures are derived from Primitive Data Types by combing two or more primitive data structures.\n",
    "-Further Divided as Linear and Non-Linear Data Structures.\n",
    "\n",
    "Linear:\n",
    "-Linear Data Structures are those in which elements are arranged in sequential order with each element connected to its adjacent element\n",
    "-These data structures are used to represent a sequence of data where order of elements is important\n",
    "Eg: Lists, Tuples, Arrays, Linked Lists, Stack, Queue. \n",
    "\n",
    "Non-Linear:\n",
    "-Non-Linear Data Structures are those in which elements are not arranged in sequential order.\n",
    "-These data structures are used to represent a heriarchical relationship between data elements where each element is connected to one or more other elements in a specific way.\n",
    "Eg: Set, Dictionary, Graph, Tree\n",
    "\n",
    "Sub-divide data strutures as Built-in data structures and user-built data structures\n",
    "-Built-in data structures - Comes with Python, No need to external library eg: List and tuples ; Sets and Dictionary\n",
    "-User-built data structures - we can create ourselves, need some external libraries.\n"
   ]
  },
  {
   "cell_type": "raw",
   "id": "436dc283",
   "metadata": {},
   "source": [
    "What are the different types of Algorithm in python?\n",
    "\n",
    "-Sorting: To sort Data in Asc or Desc order. eg: bubble,selection,insertion,sort sort alogs\n",
    "-Searching: to find a specific value in a data set. eg: linear,Binary search algos\n",
    "-Graph: To work with data that can be represented as Data. eg: depth first search, breadth first search algos\n",
    "-Dynamic Programming Algo: To solve problems by breaking them down into smaller sub-problems. eg: knapsack\n",
    "-Divide and Conquer Algo: To solve problems by breaking them down into smaller sub-problems,solving each sub problem                                       independently and then combing the results. eg: merge, quick sort.\n",
    "-Recursive Algo: To solve problems by breaking them down into smaller sub-problems that are similar in nature\n"
   ]
  }
 ],
 "metadata": {
  "kernelspec": {
   "display_name": "Python 3 (ipykernel)",
   "language": "python",
   "name": "python3"
  },
  "language_info": {
   "codemirror_mode": {
    "name": "ipython",
    "version": 3
   },
   "file_extension": ".py",
   "mimetype": "text/x-python",
   "name": "python",
   "nbconvert_exporter": "python",
   "pygments_lexer": "ipython3",
   "version": "3.10.9"
  }
 },
 "nbformat": 4,
 "nbformat_minor": 5
}
