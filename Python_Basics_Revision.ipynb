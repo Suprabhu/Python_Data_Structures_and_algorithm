{
 "cells": [
  {
   "cell_type": "code",
   "execution_count": 1,
   "id": "5c15585a",
   "metadata": {},
   "outputs": [
    {
     "name": "stdout",
     "output_type": "stream",
     "text": [
      "hello world\n"
     ]
    }
   ],
   "source": [
    "#first program \n",
    "print('hello world') \n",
    "#string -- series of characters text within quotes '' or \"\""
   ]
  },
  {
   "cell_type": "code",
   "execution_count": 9,
   "id": "b4db192f",
   "metadata": {},
   "outputs": [
    {
     "name": "stdout",
     "output_type": "stream",
     "text": [
      "20\n",
      "19.5\n",
      "sharma\n",
      "True\n"
     ]
    }
   ],
   "source": [
    "#variables - space where store data temporarily\n",
    "age = 20 #int\n",
    "price = 19.5 #float\n",
    "name = 'sharma' #string\n",
    "is_online = True # boolean #python case sensitive\n",
    "print(age)\n",
    "print(price)\n",
    "print(name)\n",
    "print(is_online)"
   ]
  },
  {
   "cell_type": "code",
   "execution_count": 8,
   "id": "e8005644",
   "metadata": {},
   "outputs": [
    {
     "name": "stdout",
     "output_type": "stream",
     "text": [
      "what is your name? sharma\n",
      "hello sharma\n"
     ]
    }
   ],
   "source": [
    "#receive input \n",
    "#built in function\n",
    "name=input(\"what is your name? \")\n",
    "print(\"hello \" + name) #string concatination: use \"\" + "
   ]
  },
  {
   "cell_type": "code",
   "execution_count": 12,
   "id": "edf6162c",
   "metadata": {},
   "outputs": [
    {
     "name": "stdout",
     "output_type": "stream",
     "text": [
      "Enter your birth year 1999\n",
      "26\n"
     ]
    }
   ],
   "source": [
    "#Type conversion \n",
    "birth_year = input(\"Enter your birth year \") \n",
    "# TypeError: unsupported operand type(s) for -: 'int' and 'str' \n",
    "#input function always returns a value\n",
    "cur_age = 2025 - int(birth_year)\n",
    "print(cur_age)"
   ]
  },
  {
   "cell_type": "code",
   "execution_count": 17,
   "id": "24ff28b8",
   "metadata": {},
   "outputs": [
    {
     "name": "stdout",
     "output_type": "stream",
     "text": [
      "First_number? 12.2\n",
      "second_number? 13.2\n",
      "Sum of the two numbers 25.4\n"
     ]
    }
   ],
   "source": [
    "first_num = float(input(\"First_number? \" ))\n",
    "second_num = float(input(\"second_number? \" ))\n",
    "summ = first_num + second_num \n",
    "print(\"Sum of the two numbers \" + str(summ))"
   ]
  },
  {
   "cell_type": "code",
   "execution_count": 26,
   "id": "c868adb5",
   "metadata": {},
   "outputs": [
    {
     "name": "stdout",
     "output_type": "stream",
     "text": [
      "False\n"
     ]
    }
   ],
   "source": [
    "#strings\n",
    "#it is an object \n",
    "#string methods\n",
    "course = \"hello world\"\n",
    "course.upper()\n",
    "course.lower()\n",
    "course.find('h')\n",
    "course.replace('world','god')\n",
    "course.find('python')\n",
    "print('python' in course)"
   ]
  },
  {
   "cell_type": "code",
   "execution_count": 30,
   "id": "931267fa",
   "metadata": {},
   "outputs": [
    {
     "name": "stdout",
     "output_type": "stream",
     "text": [
      "13\n",
      "240\n",
      "10\n"
     ]
    }
   ],
   "source": [
    "#arithmatic operations\n",
    "print(10+3)\n",
    "print(12*20)\n",
    "print(11-1)"
   ]
  },
  {
   "cell_type": "code",
   "execution_count": 33,
   "id": "6e93ce95",
   "metadata": {},
   "outputs": [
    {
     "name": "stdout",
     "output_type": "stream",
     "text": [
      "True\n"
     ]
    }
   ],
   "source": [
    "price = 40\n",
    "print(price>20 and price<50)"
   ]
  },
  {
   "cell_type": "code",
   "execution_count": 46,
   "id": "a3c10b84",
   "metadata": {},
   "outputs": [
    {
     "name": "stdout",
     "output_type": "stream",
     "text": [
      "enter the temperature45.2\n",
      "it's a hot day\n",
      "drink plenty of water\n",
      "done\n"
     ]
    }
   ],
   "source": [
    "#if statements \n",
    "#make decision \n",
    "temperature = float(input(\"enter the temperature\"))\n",
    "\n",
    "if temperature > 30:\n",
    "    print(\"it's a hot day\")\n",
    "    print(\"drink plenty of water\")\n",
    "elif temperature >20:\n",
    "    print(\"its a nice day\")\n",
    "elif temperature > 10:\n",
    "    print(\"It's a bit cold day\")\n",
    "elif temperature > 10:\n",
    "    print(\"it's damn cold\")\n",
    "else:\n",
    "    print('variable bad')\n",
    "print(\"done\")"
   ]
  },
  {
   "cell_type": "code",
   "execution_count": 49,
   "id": "8e80461e",
   "metadata": {},
   "outputs": [
    {
     "name": "stdout",
     "output_type": "stream",
     "text": [
      "Enter your weight: 65\n",
      "(K) Kgs or (L) Lbs: K\n",
      "Weight in Lbs: 144.44\n"
     ]
    }
   ],
   "source": [
    "wt = float(input(\"Enter your weight: \"))\n",
    "unit = input(\"(K) Kgs or (L) Lbs: \").upper()\n",
    "\n",
    "if unit == 'K':\n",
    "    converted = wt/0.45\n",
    "    print(\"Weight in Lbs: \" + str(round(converted, 2)))\n",
    "else:\n",
    "    converted = wt*0.45\n",
    "    print(\"Weight in Lbs: \" + str(round(converted, 2)))"
   ]
  },
  {
   "cell_type": "code",
   "execution_count": 50,
   "id": "4f3e46dc",
   "metadata": {},
   "outputs": [
    {
     "name": "stdout",
     "output_type": "stream",
     "text": [
      "1\n",
      "2\n",
      "3\n",
      "4\n",
      "5\n"
     ]
    }
   ],
   "source": [
    "i = 1\n",
    "\n",
    "while i <= 5:\n",
    "    print(i)\n",
    "    i = i+1"
   ]
  },
  {
   "cell_type": "code",
   "execution_count": 54,
   "id": "9b3aa5ff",
   "metadata": {},
   "outputs": [
    {
     "name": "stdout",
     "output_type": "stream",
     "text": [
      "hello\n",
      "cool\n",
      "['hello', 'hi', 'whatsup']\n"
     ]
    }
   ],
   "source": [
    "#Lists \n",
    "list = ['hello','hi','whatsup', 'cool']\n",
    "print(list[0])\n",
    "print(list[-1])\n",
    "print(list[0:3])"
   ]
  },
  {
   "cell_type": "code",
   "execution_count": 60,
   "id": "bad32a65",
   "metadata": {},
   "outputs": [
    {
     "name": "stdout",
     "output_type": "stream",
     "text": [
      "['hey']\n",
      "['okay', 'hey']\n",
      "['hey']\n",
      "[]\n"
     ]
    }
   ],
   "source": [
    "#list methods\n",
    "list.append('hey')\n",
    "print(list)\n",
    "list.insert(0,'okay')\n",
    "print(list)\n",
    "list.remove('okay')\n",
    "print(list)\n",
    "list.clear()\n",
    "print(list)"
   ]
  },
  {
   "cell_type": "code",
   "execution_count": 62,
   "id": "0b9b3994",
   "metadata": {},
   "outputs": [
    {
     "name": "stdout",
     "output_type": "stream",
     "text": [
      "[1, 2, 3, 4, 5]\n",
      "1\n",
      "2\n",
      "3\n",
      "4\n",
      "5\n"
     ]
    }
   ],
   "source": [
    "number = [1,2,3,4,5]\n",
    "print(number)\n",
    "for i in number:\n",
    "    print(i)"
   ]
  },
  {
   "cell_type": "code",
   "execution_count": 64,
   "id": "c016b545",
   "metadata": {},
   "outputs": [
    {
     "name": "stdout",
     "output_type": "stream",
     "text": [
      "1\n",
      "2\n",
      "3\n",
      "4\n",
      "5\n"
     ]
    }
   ],
   "source": [
    "i = 0\n",
    "while i <len(number):\n",
    "    print(number[i])\n",
    "    i=i+1\n"
   ]
  },
  {
   "cell_type": "code",
   "execution_count": 66,
   "id": "2fbfe6a7",
   "metadata": {},
   "outputs": [
    {
     "name": "stdout",
     "output_type": "stream",
     "text": [
      "0\n",
      "2\n",
      "4\n",
      "6\n",
      "8\n"
     ]
    }
   ],
   "source": [
    "numbers = range(0,10,2)\n",
    "\n",
    "for i in numbers:\n",
    "    print(i)"
   ]
  },
  {
   "cell_type": "code",
   "execution_count": 68,
   "id": "10a97016",
   "metadata": {},
   "outputs": [
    {
     "name": "stdout",
     "output_type": "stream",
     "text": [
      "(1, 2, 3)\n"
     ]
    }
   ],
   "source": [
    "#Tuples \n",
    "#immutable \n",
    "tuple = (1,2,3)\n",
    "print(tuple)"
   ]
  },
  {
   "cell_type": "code",
   "execution_count": null,
   "id": "ab1cc2fb",
   "metadata": {},
   "outputs": [],
   "source": []
  }
 ],
 "metadata": {
  "kernelspec": {
   "display_name": "Python 3 (ipykernel)",
   "language": "python",
   "name": "python3"
  },
  "language_info": {
   "codemirror_mode": {
    "name": "ipython",
    "version": 3
   },
   "file_extension": ".py",
   "mimetype": "text/x-python",
   "name": "python",
   "nbconvert_exporter": "python",
   "pygments_lexer": "ipython3",
   "version": "3.10.9"
  }
 },
 "nbformat": 4,
 "nbformat_minor": 5
}
